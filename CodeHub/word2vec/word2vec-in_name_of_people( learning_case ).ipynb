{
 "cells": [
  {
   "cell_type": "code",
   "execution_count": 1,
   "metadata": {},
   "outputs": [
    {
     "output_type": "error",
     "ename": "ModuleNotFoundError",
     "evalue": "No module named 'gensim'",
     "traceback": [
      "\u001b[0;31m---------------------------------------------------------------------------\u001b[0m",
      "\u001b[0;31mModuleNotFoundError\u001b[0m                       Traceback (most recent call last)",
      "\u001b[0;32m<ipython-input-1-de31d303e6d4>\u001b[0m in \u001b[0;36m<module>\u001b[0;34m\u001b[0m\n\u001b[0;32m----> 1\u001b[0;31m \u001b[0;32mfrom\u001b[0m \u001b[0mgensim\u001b[0m\u001b[0;34m.\u001b[0m\u001b[0mmodels\u001b[0m \u001b[0;32mimport\u001b[0m \u001b[0mword2vec\u001b[0m\u001b[0;34m\u001b[0m\u001b[0;34m\u001b[0m\u001b[0m\n\u001b[0m",
      "\u001b[0;31mModuleNotFoundError\u001b[0m: No module named 'gensim'"
     ]
    }
   ],
   "source": [
    "from gensim.models import word2vec"
   ]
  },
  {
   "cell_type": "code",
   "execution_count": 1,
   "metadata": {},
   "outputs": [],
   "source": [
    "import jieba"
   ]
  },
  {
   "cell_type": "markdown",
   "metadata": {},
   "source": [
    "## jieba学习尝试"
   ]
  },
  {
   "cell_type": "code",
   "execution_count": 2,
   "metadata": {},
   "outputs": [
    {
     "output_type": "stream",
     "name": "stderr",
     "text": [
      "Building prefix dict from the default dictionary ...\n",
      "Loading model from cache /tmp/jieba.cache\n",
      "Loading model cost 0.472 seconds.\n",
      "Prefix dict has been built successfully.\n"
     ]
    }
   ],
   "source": [
    "with open('./data/nlp_test0.txt',encoding='utf-8') as f:\n",
    "    document = f.read()\n",
    "    \n",
    "    #document_decode = document.decode('GBK')\n",
    "    document_cut = jieba.cut(document)\n",
    "    #print  ' '.join(jieba_cut)  //如果打印结果，则分词效果消失，后面的result无法显示\n",
    "    result = ' '.join(document_cut)\n",
    "    #result = result.encode('utf-8')\n",
    "    with open('./data/nlp_test1.txt', 'w') as f2:\n",
    "        f2.write(result)\n",
    "f.close()\n",
    "f2.close()\n"
   ]
  },
  {
   "cell_type": "code",
   "execution_count": 3,
   "metadata": {},
   "outputs": [
    {
     "output_type": "execute_result",
     "data": {
      "text/plain": [
       "2"
      ]
     },
     "metadata": {},
     "execution_count": 3
    }
   ],
   "source": [
    "jieba.suggest_freq('沙瑞金', True)\n",
    "jieba.suggest_freq('易学习', True)\n",
    "jieba.suggest_freq('王大路', True)\n",
    "jieba.suggest_freq('京州', True)"
   ]
  },
  {
   "cell_type": "code",
   "execution_count": 5,
   "metadata": {},
   "outputs": [
    {
     "output_type": "error",
     "ename": "NameError",
     "evalue": "name 'jieba' is not defined",
     "traceback": [
      "\u001b[0;31m---------------------------------------------------------------------------\u001b[0m",
      "\u001b[0;31mNameError\u001b[0m                                 Traceback (most recent call last)",
      "\u001b[0;32m<ipython-input-5-9fe60dd6cc56>\u001b[0m in \u001b[0;36m<module>\u001b[0;34m\u001b[0m\n\u001b[1;32m      3\u001b[0m \u001b[0;34m\u001b[0m\u001b[0m\n\u001b[1;32m      4\u001b[0m     \u001b[0;31m#document_decode = document.decode('GBK')\u001b[0m\u001b[0;34m\u001b[0m\u001b[0;34m\u001b[0m\u001b[0;34m\u001b[0m\u001b[0m\n\u001b[0;32m----> 5\u001b[0;31m     \u001b[0mdocument_cut\u001b[0m \u001b[0;34m=\u001b[0m \u001b[0mjieba\u001b[0m\u001b[0;34m.\u001b[0m\u001b[0mcut\u001b[0m\u001b[0;34m(\u001b[0m\u001b[0mdocument\u001b[0m\u001b[0;34m)\u001b[0m\u001b[0;34m\u001b[0m\u001b[0;34m\u001b[0m\u001b[0m\n\u001b[0m\u001b[1;32m      6\u001b[0m     \u001b[0;31m#print  ' '.join(jieba_cut)  //如果打印结果，则分词效果消失，后面的result无法显示\u001b[0m\u001b[0;34m\u001b[0m\u001b[0;34m\u001b[0m\u001b[0;34m\u001b[0m\u001b[0m\n\u001b[1;32m      7\u001b[0m     \u001b[0mresult\u001b[0m \u001b[0;34m=\u001b[0m \u001b[0;34m' '\u001b[0m\u001b[0;34m.\u001b[0m\u001b[0mjoin\u001b[0m\u001b[0;34m(\u001b[0m\u001b[0mdocument_cut\u001b[0m\u001b[0;34m)\u001b[0m\u001b[0;34m\u001b[0m\u001b[0;34m\u001b[0m\u001b[0m\n",
      "\u001b[0;31mNameError\u001b[0m: name 'jieba' is not defined"
     ]
    }
   ],
   "source": [
    "with open('./data/nlp_test0.txt',encoding='utf-8') as f:\n",
    "    document = f.read()\n",
    "    \n",
    "    #document_decode = document.decode('GBK')\n",
    "    document_cut = jieba.cut(document)\n",
    "    #print  ' '.join(jieba_cut)  //如果打印结果，则分词效果消失，后面的result无法显示\n",
    "    result = ' '.join(document_cut)\n",
    "    #result = result.encode('utf-8')\n",
    "    with open('./data/nlp_test1.txt', 'w') as f2:\n",
    "        f2.write(result)\n",
    "f.close()\n",
    "f2.close()\n"
   ]
  },
  {
   "cell_type": "markdown",
   "metadata": {},
   "source": [
    "## 了解停用词表\n",
    "在我们用scikit-learn做特征处理的时候，可以通过参数stop_words来引入一个数组作为停用词表。<br>\n",
    "拿到了分词后的文件，在一般的NLP处理中，会需要去停用词。由于word2vec的算法依赖于上下文，而上下文有可能就是停词。因此对于word2vec，我们可以不用去停词。"
   ]
  },
  {
   "cell_type": "code",
   "execution_count": 6,
   "metadata": {},
   "outputs": [],
   "source": [
    "#从文件导入停用词表\n",
    "stpwrdpath = \"./data/stop_words.txt\"\n",
    "stpwrd_dic = open(stpwrdpath, 'rb')\n",
    "stpwrd_content = stpwrd_dic.read()\n",
    "#将停用词表转换为list  \n",
    "stpwrdlst = stpwrd_content.splitlines()\n",
    "stpwrd_dic.close()"
   ]
  },
  {
   "cell_type": "markdown",
   "metadata": {},
   "source": [
    "***"
   ]
  },
  {
   "cell_type": "markdown",
   "metadata": {},
   "source": [
    "# 正式开始word2vec"
   ]
  },
  {
   "cell_type": "markdown",
   "metadata": {},
   "source": [
    "## jieba分词"
   ]
  },
  {
   "cell_type": "code",
   "execution_count": 6,
   "metadata": {},
   "outputs": [
    {
     "output_type": "stream",
     "name": "stderr",
     "text": [
      "Building prefix dict from the default dictionary ...\n",
      "Dumping model to file cache /tmp/jieba.cache\n",
      "Loading model cost 0.437 seconds.\n",
      "Prefix dict has been built successfully.\n"
     ]
    }
   ],
   "source": [
    "# -*- coding: utf-8 -*-\n",
    "\n",
    "import jieba\n",
    "import jieba.analyse\n",
    "\n",
    "#动态修改词频，使其不被分开\n",
    "jieba.suggest_freq('沙瑞金', True)\n",
    "jieba.suggest_freq('田国富', True)\n",
    "jieba.suggest_freq('高育良', True)\n",
    "jieba.suggest_freq('侯亮平', True)\n",
    "jieba.suggest_freq('钟小艾', True)\n",
    "jieba.suggest_freq('陈岩石', True)\n",
    "jieba.suggest_freq('欧阳菁', True)\n",
    "jieba.suggest_freq('易学习', True)\n",
    "jieba.suggest_freq('王大路', True)\n",
    "jieba.suggest_freq('蔡成功', True)\n",
    "jieba.suggest_freq('孙连城', True)\n",
    "jieba.suggest_freq('季昌明', True)\n",
    "jieba.suggest_freq('丁义珍', True)\n",
    "jieba.suggest_freq('郑西坡', True)\n",
    "jieba.suggest_freq('赵东来', True)\n",
    "jieba.suggest_freq('高小琴', True)\n",
    "jieba.suggest_freq('赵瑞龙', True)\n",
    "jieba.suggest_freq('林华华', True)\n",
    "jieba.suggest_freq('陆亦可', True)\n",
    "jieba.suggest_freq('刘新建', True)\n",
    "jieba.suggest_freq('刘庆祝', True)\n",
    "\n",
    "#打开目标文本文件\n",
    "with open('./data/in_the_name_of_people.txt',encoding='utf-8') as f:\n",
    "    document = f.read()\n",
    "    \n",
    "    #document_decode = document.decode('GBK')\n",
    "    \n",
    "    document_cut = jieba.cut(document)\n",
    "    #print  ' '.join(jieba_cut)  //如果打印结果，则分词效果消失，后面的result无法显示\n",
    "    result = ' '.join(document_cut)\n",
    "    #result = result.encode('utf-8')\n",
    "    with open('./data/in_the_name_of_people_segment.txt', 'w', encoding='utf-8') as f2:\n",
    "        f2.write(result)\n",
    "f.close()\n",
    "f2.close()"
   ]
  },
  {
   "cell_type": "markdown",
   "metadata": {},
   "source": [
    "## 训练模型"
   ]
  },
  {
   "cell_type": "code",
   "execution_count": 7,
   "metadata": {},
   "outputs": [
    {
     "output_type": "error",
     "ename": "ModuleNotFoundError",
     "evalue": "No module named 'gensim'",
     "traceback": [
      "\u001b[0;31m---------------------------------------------------------------------------\u001b[0m",
      "\u001b[0;31mModuleNotFoundError\u001b[0m                       Traceback (most recent call last)",
      "\u001b[0;32m<ipython-input-7-10cc2c66c921>\u001b[0m in \u001b[0;36m<module>\u001b[0;34m\u001b[0m\n\u001b[1;32m      2\u001b[0m \u001b[0;32mimport\u001b[0m \u001b[0mlogging\u001b[0m\u001b[0;34m\u001b[0m\u001b[0;34m\u001b[0m\u001b[0m\n\u001b[1;32m      3\u001b[0m \u001b[0;32mimport\u001b[0m \u001b[0mos\u001b[0m\u001b[0;34m\u001b[0m\u001b[0;34m\u001b[0m\u001b[0m\n\u001b[0;32m----> 4\u001b[0;31m \u001b[0;32mfrom\u001b[0m \u001b[0mgensim\u001b[0m\u001b[0;34m.\u001b[0m\u001b[0mmodels\u001b[0m \u001b[0;32mimport\u001b[0m \u001b[0mword2vec\u001b[0m\u001b[0;34m\u001b[0m\u001b[0;34m\u001b[0m\u001b[0m\n\u001b[0m",
      "\u001b[0;31mModuleNotFoundError\u001b[0m: No module named 'gensim'"
     ]
    }
   ],
   "source": [
    "# import modules & set up logging\n",
    "import logging\n",
    "import os\n",
    "from gensim.models import word2vec"
   ]
  },
  {
   "cell_type": "code",
   "execution_count": 32,
   "metadata": {
    "collapsed": true
   },
   "outputs": [
    {
     "name": "stderr",
     "output_type": "stream",
     "text": [
      "2020-10-25 12:31:12,207 : INFO : collecting all words and their counts\n",
      "2020-10-25 12:31:12,208 : INFO : PROGRESS: at sentence #0, processed 0 words, keeping 0 word types\n",
      "2020-10-25 12:31:12,267 : INFO : collected 17862 word types from a corpus of 161371 raw words and 2311 sentences\n",
      "2020-10-25 12:31:12,268 : INFO : Loading a fresh vocabulary\n",
      "2020-10-25 12:31:12,295 : INFO : effective_min_count=1 retains 17862 unique words (100% of original 17862, drops 0)\n",
      "2020-10-25 12:31:12,295 : INFO : effective_min_count=1 leaves 161371 word corpus (100% of original 161371, drops 0)\n",
      "2020-10-25 12:31:12,347 : INFO : deleting the raw counts dictionary of 17862 items\n",
      "2020-10-25 12:31:12,348 : INFO : sample=0.001 downsamples 38 most-common words\n",
      "2020-10-25 12:31:12,349 : INFO : downsampling leaves estimated 120601 word corpus (74.7% of prior 161371)\n",
      "2020-10-25 12:31:12,361 : INFO : constructing a huffman tree from 17862 words\n",
      "2020-10-25 12:31:12,791 : INFO : built huffman tree with maximum node depth 17\n",
      "2020-10-25 12:31:12,825 : INFO : estimated required memory for 17862 words and 100 dimensions: 33937800 bytes\n",
      "2020-10-25 12:31:12,826 : INFO : resetting layer weights\n",
      "2020-10-25 12:31:16,171 : INFO : training model with 3 workers on 17862 vocabulary and 100 features, using sg=0 hs=1 sample=0.001 negative=5 window=3\n",
      "2020-10-25 12:31:16,356 : INFO : worker thread finished; awaiting finish of 2 more threads\n",
      "2020-10-25 12:31:16,359 : INFO : worker thread finished; awaiting finish of 1 more threads\n",
      "2020-10-25 12:31:16,374 : INFO : worker thread finished; awaiting finish of 0 more threads\n",
      "2020-10-25 12:31:16,375 : INFO : EPOCH - 1 : training on 161371 raw words (120684 effective words) took 0.2s, 612871 effective words/s\n",
      "2020-10-25 12:31:16,565 : INFO : worker thread finished; awaiting finish of 2 more threads\n",
      "2020-10-25 12:31:16,566 : INFO : worker thread finished; awaiting finish of 1 more threads\n",
      "2020-10-25 12:31:16,582 : INFO : worker thread finished; awaiting finish of 0 more threads\n",
      "2020-10-25 12:31:16,583 : INFO : EPOCH - 2 : training on 161371 raw words (120628 effective words) took 0.2s, 585447 effective words/s\n",
      "2020-10-25 12:31:16,758 : INFO : worker thread finished; awaiting finish of 2 more threads\n",
      "2020-10-25 12:31:16,760 : INFO : worker thread finished; awaiting finish of 1 more threads\n",
      "2020-10-25 12:31:16,778 : INFO : worker thread finished; awaiting finish of 0 more threads\n",
      "2020-10-25 12:31:16,779 : INFO : EPOCH - 3 : training on 161371 raw words (120645 effective words) took 0.2s, 626361 effective words/s\n",
      "2020-10-25 12:31:16,952 : INFO : worker thread finished; awaiting finish of 2 more threads\n",
      "2020-10-25 12:31:16,953 : INFO : worker thread finished; awaiting finish of 1 more threads\n",
      "2020-10-25 12:31:16,970 : INFO : worker thread finished; awaiting finish of 0 more threads\n",
      "2020-10-25 12:31:16,971 : INFO : EPOCH - 4 : training on 161371 raw words (120753 effective words) took 0.2s, 633729 effective words/s\n",
      "2020-10-25 12:31:17,175 : INFO : worker thread finished; awaiting finish of 2 more threads\n",
      "2020-10-25 12:31:17,177 : INFO : worker thread finished; awaiting finish of 1 more threads\n",
      "2020-10-25 12:31:17,190 : INFO : worker thread finished; awaiting finish of 0 more threads\n",
      "2020-10-25 12:31:17,192 : INFO : EPOCH - 5 : training on 161371 raw words (120513 effective words) took 0.2s, 552986 effective words/s\n",
      "2020-10-25 12:31:17,193 : INFO : training on a 806855 raw words (603223 effective words) took 1.0s, 590871 effective words/s\n"
     ]
    }
   ],
   "source": [
    "# 开启日志记录\n",
    "logging.basicConfig(format=\n",
    "                    '%(asctime)s : %(levelname)s : %(message)s'\n",
    "                    , level=logging.INFO)\n",
    "\n",
    "# 使用 word2vec 提供的 LineSentence 类来读文件\n",
    "sentences = word2vec.LineSentence(\n",
    "    './data/in_the_name_of_people_segment.txt'\n",
    ") \n",
    "\n",
    "# 建立模型\n",
    "model = word2vec.Word2Vec(\n",
    "    sentences, hs=1,min_count=1,window=3,size=100\n",
    ")"
   ]
  },
  {
   "cell_type": "markdown",
   "metadata": {},
   "source": [
    "## 模型应用"
   ]
  },
  {
   "cell_type": "markdown",
   "metadata": {},
   "source": [
    "### Ⅰ 找出某一个词向量最相近的词集合"
   ]
  },
  {
   "cell_type": "code",
   "execution_count": 36,
   "metadata": {},
   "outputs": [
    {
     "name": "stdout",
     "output_type": "stream",
     "text": [
      "祁同伟 0.9764020442962646\n",
      "赵东来 0.9734453558921814\n",
      "季昌明 0.9676073789596558\n",
      "陆亦可 0.9617486000061035\n",
      "赵瑞龙 0.9526482820510864\n"
     ]
    }
   ],
   "source": [
    "req_count = 5\n",
    "for key in model.wv.similar_by_word(\n",
    "    '李达康', topn =100\n",
    "):\n",
    "    if len(key[0])==3:      # 只关注三字词\n",
    "        req_count -= 1\n",
    "        print(key[0], key[1])\n",
    "        if req_count == 0:\n",
    "            break;"
   ]
  },
  {
   "cell_type": "code",
   "execution_count": 39,
   "metadata": {},
   "outputs": [
    {
     "name": "stdout",
     "output_type": "stream",
     "text": [
      "沙瑞金 0.9786046743392944\n",
      "田国富 0.9561971426010132\n",
      "侯亮平 0.9452186822891235\n",
      "祁同伟 0.9422879219055176\n",
      "易学习 0.9361264705657959\n"
     ]
    }
   ],
   "source": [
    "req_count = 5\n",
    "for key in model.wv.similar_by_word('高育良', topn =100):\n",
    "    if len(key[0])==3:    # 只关注三字词\n",
    "        req_count -= 1\n",
    "        print(key[0], key[1])\n",
    "        if req_count == 0:\n",
    "            break;"
   ]
  },
  {
   "cell_type": "code",
   "execution_count": 40,
   "metadata": {},
   "outputs": [
    {
     "name": "stdout",
     "output_type": "stream",
     "text": [
      "高育良 0.9786046743392944\n",
      "田国富 0.9728838205337524\n",
      "易学习 0.9521629214286804\n",
      "季昌明 0.9519699811935425\n",
      "祁同伟 0.9410271644592285\n"
     ]
    }
   ],
   "source": [
    "req_count = 5\n",
    "for key in model.wv.similar_by_word('沙瑞金', topn =100):\n",
    "    if len(key[0])==3:   # 只关注三字词\n",
    "        req_count -= 1\n",
    "        print(key[0], key[1])\n",
    "        if req_count == 0:\n",
    "            break;"
   ]
  },
  {
   "cell_type": "markdown",
   "metadata": {},
   "source": [
    "### Ⅱ 查看两个词向量的相近程度"
   ]
  },
  {
   "cell_type": "code",
   "execution_count": 42,
   "metadata": {},
   "outputs": [
    {
     "name": "stdout",
     "output_type": "stream",
     "text": [
      "0.9786047\n",
      "0.9185645\n"
     ]
    }
   ],
   "source": [
    "print(\n",
    "    model.wv.similarity('沙瑞金', '高育良')\n",
    ")\n",
    "print(\n",
    "    model.wv.similarity('李达康', '王大路')\n",
    ")"
   ]
  },
  {
   "cell_type": "markdown",
   "metadata": {},
   "source": [
    "### Ⅲ 找出不同类的词"
   ]
  },
  {
   "cell_type": "code",
   "execution_count": 43,
   "metadata": {},
   "outputs": [
    {
     "name": "stdout",
     "output_type": "stream",
     "text": [
      "刘庆祝\n"
     ]
    },
    {
     "name": "stderr",
     "output_type": "stream",
     "text": [
      "C:\\Users\\94859\\.conda\\envs\\gluon\\lib\\site-packages\\gensim\\models\\keyedvectors.py:877: FutureWarning: arrays to stack must be passed as a \"sequence\" type such as list or tuple. Support for non-sequence iterables such as generators is deprecated as of NumPy 1.16 and will raise an error in the future.\n",
      "  vectors = vstack(self.word_vec(word, use_norm=True) for word in used_words).astype(REAL)\n"
     ]
    }
   ],
   "source": [
    "print(\n",
    "     model.wv.doesnt_match(\n",
    "         u\"沙瑞金 高育良 李达康 刘庆祝\".split()\n",
    "     )\n",
    ")"
   ]
  },
  {
   "cell_type": "code",
   "execution_count": null,
   "metadata": {},
   "outputs": [],
   "source": []
  }
 ],
 "metadata": {
  "kernelspec": {
   "display_name": "Python 3",
   "language": "python",
   "name": "python3"
  },
  "language_info": {
   "codemirror_mode": {
    "name": "ipython",
    "version": 3
   },
   "file_extension": ".py",
   "mimetype": "text/x-python",
   "name": "python",
   "nbconvert_exporter": "python",
   "pygments_lexer": "ipython3",
   "version": "3.9.2-final"
  }
 },
 "nbformat": 4,
 "nbformat_minor": 4
}