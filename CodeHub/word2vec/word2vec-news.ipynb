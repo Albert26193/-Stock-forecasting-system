{
 "cells": [
  {
   "cell_type": "markdown",
   "metadata": {},
   "source": [
    "# 由文本到词向量"
   ]
  },
  {
   "cell_type": "code",
   "execution_count": 5,
   "metadata": {},
   "outputs": [
    {
     "output_type": "error",
     "ename": "ModuleNotFoundError",
     "evalue": "No module named 'gensim'",
     "traceback": [
      "\u001b[0;31m---------------------------------------------------------------------------\u001b[0m",
      "\u001b[0;31mModuleNotFoundError\u001b[0m                       Traceback (most recent call last)",
      "\u001b[0;32m<ipython-input-5-c36a3779855b>\u001b[0m in \u001b[0;36m<module>\u001b[0;34m\u001b[0m\n\u001b[1;32m      3\u001b[0m \u001b[0;32mimport\u001b[0m \u001b[0mjieba\u001b[0m\u001b[0;34m.\u001b[0m\u001b[0manalyse\u001b[0m\u001b[0;34m\u001b[0m\u001b[0;34m\u001b[0m\u001b[0m\n\u001b[1;32m      4\u001b[0m \u001b[0;34m\u001b[0m\u001b[0m\n\u001b[0;32m----> 5\u001b[0;31m \u001b[0;32mfrom\u001b[0m \u001b[0mgensim\u001b[0m\u001b[0;34m.\u001b[0m\u001b[0mmodels\u001b[0m \u001b[0;32mimport\u001b[0m \u001b[0mword2vec\u001b[0m  \u001b[0;31m#训练词向量\u001b[0m\u001b[0;34m\u001b[0m\u001b[0;34m\u001b[0m\u001b[0m\n\u001b[0m\u001b[1;32m      6\u001b[0m \u001b[0;34m\u001b[0m\u001b[0m\n\u001b[1;32m      7\u001b[0m \u001b[0;32mimport\u001b[0m \u001b[0mlogging\u001b[0m\u001b[0;34m\u001b[0m\u001b[0;34m\u001b[0m\u001b[0m\n",
      "\u001b[0;31mModuleNotFoundError\u001b[0m: No module named 'gensim'"
     ]
    }
   ],
   "source": [
    "# 用到的库\n",
    "import jieba        #分词\n",
    "import jieba.analyse\n",
    "\n",
    "from gensim.models import word2vec  #训练词向量\n",
    "\n",
    "import logging\n",
    "import os\n",
    "\n",
    "import re\n",
    "import json"
   ]
  },
  {
   "cell_type": "markdown",
   "metadata": {},
   "source": [
    "### 新闻文本预处理\n",
    "使用正则表达式去除非文本部分"
   ]
  },
  {
   "cell_type": "code",
   "execution_count": null,
   "metadata": {},
   "outputs": [],
   "source": [
    "#一部分已用停用词完成去除\n",
    "#暂时跳过这一步，不熟悉正则表达式:（\n",
    "pass"
   ]
  },
  {
   "cell_type": "markdown",
   "metadata": {},
   "source": [
    "### 分词处理"
   ]
  },
  {
   "cell_type": "code",
   "execution_count": 1,
   "metadata": {},
   "outputs": [
    {
     "output_type": "error",
     "ename": "NameError",
     "evalue": "name 'jieba' is not defined",
     "traceback": [
      "\u001b[0;31m---------------------------------------------------------------------------\u001b[0m",
      "\u001b[0;31mNameError\u001b[0m                                 Traceback (most recent call last)",
      "\u001b[0;32m<ipython-input-1-5a9ffa5b6638>\u001b[0m in \u001b[0;36m<module>\u001b[0;34m\u001b[0m\n\u001b[1;32m      1\u001b[0m \u001b[0;31m#新闻来源词频修改\u001b[0m\u001b[0;34m\u001b[0m\u001b[0;34m\u001b[0m\u001b[0;34m\u001b[0m\u001b[0m\n\u001b[0;32m----> 2\u001b[0;31m \u001b[0mjieba\u001b[0m\u001b[0;34m.\u001b[0m\u001b[0msuggest_freq\u001b[0m\u001b[0;34m(\u001b[0m\u001b[0;34m'上海证券报'\u001b[0m\u001b[0;34m,\u001b[0m \u001b[0;32mTrue\u001b[0m\u001b[0;34m)\u001b[0m\u001b[0;34m\u001b[0m\u001b[0;34m\u001b[0m\u001b[0m\n\u001b[0m\u001b[1;32m      3\u001b[0m \u001b[0mjieba\u001b[0m\u001b[0;34m.\u001b[0m\u001b[0msuggest_freq\u001b[0m\u001b[0;34m(\u001b[0m\u001b[0;34m'华夏时报'\u001b[0m\u001b[0;34m,\u001b[0m \u001b[0;32mTrue\u001b[0m\u001b[0;34m)\u001b[0m\u001b[0;34m\u001b[0m\u001b[0;34m\u001b[0m\u001b[0m\n\u001b[1;32m      4\u001b[0m \u001b[0mjieba\u001b[0m\u001b[0;34m.\u001b[0m\u001b[0msuggest_freq\u001b[0m\u001b[0;34m(\u001b[0m\u001b[0;34m'券商中国'\u001b[0m\u001b[0;34m,\u001b[0m \u001b[0;32mTrue\u001b[0m\u001b[0;34m)\u001b[0m\u001b[0;34m\u001b[0m\u001b[0;34m\u001b[0m\u001b[0m\n\u001b[1;32m      5\u001b[0m \u001b[0mjieba\u001b[0m\u001b[0;34m.\u001b[0m\u001b[0msuggest_freq\u001b[0m\u001b[0;34m(\u001b[0m\u001b[0;34m'国际金融报'\u001b[0m\u001b[0;34m,\u001b[0m \u001b[0;32mTrue\u001b[0m\u001b[0;34m)\u001b[0m\u001b[0;34m\u001b[0m\u001b[0;34m\u001b[0m\u001b[0m\n",
      "\u001b[0;31mNameError\u001b[0m: name 'jieba' is not defined"
     ]
    }
   ],
   "source": [
    "#新闻来源词频修改\n",
    "jieba.suggest_freq('上海证券报', True)\n",
    "jieba.suggest_freq('华夏时报', True)\n",
    "jieba.suggest_freq('券商中国', True)\n",
    "jieba.suggest_freq('国际金融报', True)\n",
    "jieba.suggest_freq('经济观察网', True)\n",
    "jieba.suggest_freq('第一财经', True)\n",
    "jieba.suggest_freq('全景财经', True)\n",
    "jieba.suggest_freq('中国基金报', True)\n",
    "jieba.suggest_freq('深圳商报', True)\n",
    "#...待补充\n",
    "\n",
    "# 导入停用词表\n",
    "#从文件导入停用词表\n",
    "stpwrdpath = \"./data/stop_words.txt\"\n",
    "stpwrd_dic = open(stpwrdpath, 'r', encoding='utf-8')\n",
    "stpwrd_content = stpwrd_dic.read()\n",
    "#将停用词表转换为list  \n",
    "stpwrdlst = stpwrd_content.splitlines()\n",
    "stpwrd_dic.close()\n",
    "\n",
    "\n",
    "with open('./data/east_money_news.txt',encoding='utf-8') as f:\n",
    "    # 读入原始新闻文本\n",
    "    document = f.read()\n",
    "    # 分词后去除列表中的停用词\n",
    "    document_cut=[]\n",
    "    document_cut += [word for word in jieba.cut(document) if word not in stpwrdlst]\n",
    "    # 用空格分隔分词结果，形成分词后文本\n",
    "    result = ' '.join(document_cut)\n",
    "    \n",
    "    with open('./data/east_money_news01.txt', 'w', encoding='utf-8') as f2:\n",
    "        f2.write(result)\n",
    "f.close()\n",
    "f2.close()"
   ]
  },
  {
   "cell_type": "markdown",
   "metadata": {},
   "source": [
    "## word2vec模型训练"
   ]
  },
  {
   "cell_type": "code",
   "execution_count": 2,
   "metadata": {
    "collapsed": true
   },
   "outputs": [
    {
     "output_type": "error",
     "ename": "NameError",
     "evalue": "name 'logging' is not defined",
     "traceback": [
      "\u001b[0;31m---------------------------------------------------------------------------\u001b[0m",
      "\u001b[0;31mNameError\u001b[0m                                 Traceback (most recent call last)",
      "\u001b[0;32m<ipython-input-2-c08b3f7366ba>\u001b[0m in \u001b[0;36m<module>\u001b[0;34m\u001b[0m\n\u001b[1;32m      1\u001b[0m \u001b[0;31m# 开启日志记录\u001b[0m\u001b[0;34m\u001b[0m\u001b[0;34m\u001b[0m\u001b[0;34m\u001b[0m\u001b[0m\n\u001b[0;32m----> 2\u001b[0;31m logging.basicConfig(format=\n\u001b[0m\u001b[1;32m      3\u001b[0m                     \u001b[0;34m'%(asctime)s : %(levelname)s : %(message)s'\u001b[0m\u001b[0;34m\u001b[0m\u001b[0;34m\u001b[0m\u001b[0m\n\u001b[1;32m      4\u001b[0m                     , level=logging.INFO)\n\u001b[1;32m      5\u001b[0m \u001b[0;34m\u001b[0m\u001b[0m\n",
      "\u001b[0;31mNameError\u001b[0m: name 'logging' is not defined"
     ]
    }
   ],
   "source": [
    "# 开启日志记录\n",
    "logging.basicConfig(format=\n",
    "                    '%(asctime)s : %(levelname)s : %(message)s'\n",
    "                    , level=logging.INFO)\n",
    "\n",
    "# 使用 word2vec 提供的 LineSentence 类来读文件\n",
    "sentences = word2vec.LineSentence(\n",
    "    './data/east_money_news01.txt'\n",
    ") \n",
    "\n",
    "# 建立模型 （ 暂时使用了默认参数 ）\n",
    "model = word2vec.Word2Vec(\n",
    "    sentences, hs=1,min_count=1,window=3,size=100\n",
    ")"
   ]
  },
  {
   "cell_type": "markdown",
   "metadata": {},
   "source": [
    "## 模型查看与简单应用"
   ]
  },
  {
   "cell_type": "code",
   "execution_count": 24,
   "metadata": {
    "collapsed": true
   },
   "outputs": [
    {
     "name": "stdout",
     "output_type": "stream",
     "text": [
      "重磅\n",
      "央行\n",
      "行长\n",
      "易纲\n",
      "最新\n",
      "讲话\n",
      "金融业\n",
      "开放\n",
      "汇率\n",
      "释放\n",
      "信号\n",
      "24\n",
      "举行\n",
      "外滩\n",
      "金融\n",
      "峰会\n",
      "中国人民银行\n",
      "表示\n",
      "我国\n",
      "持续\n",
      "推动\n",
      "营造\n",
      "市场化\n",
      "法治化\n",
      "国际化\n",
      "展业\n",
      "环境\n",
      "人民币\n",
      "形成\n",
      "机制\n",
      "改革\n",
      "增强\n",
      "弹性\n",
      "10\n",
      "25\n",
      "00\n",
      "03\n",
      "周末\n",
      "要闻\n",
      "汇总\n",
      "证监会\n",
      "沪\n",
      "深\n",
      "交易所\n",
      "联合\n",
      "围剿\n",
      "剑\n",
      "指\n",
      "可转债\n",
      "疯狂\n",
      "炒作\n",
      "王岐山\n",
      "中国\n",
      "走\n",
      "投机\n",
      "赌博\n",
      "歪路\n",
      "庞氏\n",
      "骗局\n",
      "邪路\n",
      "马云\n",
      "已\n",
      "完成\n",
      "蚂蚁\n",
      "集团\n",
      "上市\n",
      "定价\n",
      "13\n",
      "51\n",
      "贵州\n",
      "茅台\n",
      "三季度\n",
      "净利润\n",
      "同比\n",
      "增长\n",
      "11%\n",
      "日晚\n",
      "披露\n",
      "季报\n",
      "公司\n",
      "营收\n",
      "672.14\n",
      "亿元\n",
      "10.31%\n",
      "338.27\n",
      "11.07%\n",
      "e\n",
      "14\n",
      "07\n",
      "机构\n",
      "买\n",
      "明星\n",
      "基金\n",
      "经理\n",
      "操作\n",
      "曝光\n",
      "无效\n",
      "仓位\n",
      "正在\n",
      "甩卖\n"
     ]
    }
   ],
   "source": [
    "# 打印模型中词频最高的前 100 个词\n",
    "for i, word in enumerate(model.wv.vocab):\n",
    "    if i == 100:\n",
    "        break\n",
    "    print(word)"
   ]
  },
  {
   "cell_type": "code",
   "execution_count": 16,
   "metadata": {
    "collapsed": true
   },
   "outputs": [
    {
     "output_type": "error",
     "ename": "NameError",
     "evalue": "name 'model' is not defined",
     "traceback": [
      "\u001b[0;31m---------------------------------------------------------------------------\u001b[0m",
      "\u001b[0;31mNameError\u001b[0m                                 Traceback (most recent call last)",
      "\u001b[0;32m<ipython-input-16-66b9bd18614e>\u001b[0m in \u001b[0;36m<module>\u001b[0;34m\u001b[0m\n\u001b[1;32m      1\u001b[0m \u001b[0;31m#通过词向量，找出与目标词关系最近的前 20 个词\u001b[0m\u001b[0;34m\u001b[0m\u001b[0;34m\u001b[0m\u001b[0;34m\u001b[0m\u001b[0m\n\u001b[0;32m----> 2\u001b[0;31m \u001b[0;32mfor\u001b[0m \u001b[0mkey\u001b[0m \u001b[0;32min\u001b[0m \u001b[0mmodel\u001b[0m\u001b[0;34m.\u001b[0m\u001b[0mwv\u001b[0m\u001b[0;34m.\u001b[0m\u001b[0msimilar_by_word\u001b[0m\u001b[0;34m(\u001b[0m\u001b[0;34m'蚂蚁'\u001b[0m\u001b[0;34m,\u001b[0m \u001b[0mtopn\u001b[0m \u001b[0;34m=\u001b[0m\u001b[0;36m30\u001b[0m\u001b[0;34m)\u001b[0m\u001b[0;34m:\u001b[0m\u001b[0;34m\u001b[0m\u001b[0;34m\u001b[0m\u001b[0m\n\u001b[0m\u001b[1;32m      3\u001b[0m         \u001b[0mprint\u001b[0m\u001b[0;34m(\u001b[0m\u001b[0mkey\u001b[0m\u001b[0;34m[\u001b[0m\u001b[0;36m0\u001b[0m\u001b[0;34m]\u001b[0m\u001b[0;34m,\u001b[0m \u001b[0mkey\u001b[0m\u001b[0;34m[\u001b[0m\u001b[0;36m1\u001b[0m\u001b[0;34m]\u001b[0m\u001b[0;34m)\u001b[0m\u001b[0;34m\u001b[0m\u001b[0;34m\u001b[0m\u001b[0m\n",
      "\u001b[0;31mNameError\u001b[0m: name 'model' is not defined"
     ]
    }
   ],
   "source": [
    "#通过词向量，找出与目标词关系最近的前 20 个词\n",
    "for key in model.wv.similar_by_word('蚂蚁', topn =30):\n",
    "        print(key[0], key[1])"
   ]
  },
  {
   "cell_type": "code",
   "execution_count": null,
   "metadata": {},
   "outputs": [],
   "source": []
  },
  {
   "cell_type": "code",
   "execution_count": null,
   "metadata": {},
   "outputs": [],
   "source": []
  }
 ],
 "metadata": {
  "kernelspec": {
   "display_name": "Python 3",
   "language": "python",
   "name": "python3"
  },
  "language_info": {
   "codemirror_mode": {
    "name": "ipython",
    "version": 3
   },
   "file_extension": ".py",
   "mimetype": "text/x-python",
   "name": "python",
   "nbconvert_exporter": "python",
   "pygments_lexer": "ipython3",
   "version": "3.9.2-final"
  }
 },
 "nbformat": 4,
 "nbformat_minor": 4
}