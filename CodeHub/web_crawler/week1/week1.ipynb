{
 "cells": [
  {
   "cell_type": "markdown",
   "metadata": {},
   "source": [
    "# 蜡烛图"
   ]
  },
  {
   "cell_type": "markdown",
   "metadata": {},
   "source": [
    "**（一）四个值**\n",
    "- 开盘价\n",
    "- 收盘价\n",
    "- 最低价\n",
    "- 最高价\n"
   ]
  },
  {
   "cell_type": "markdown",
   "metadata": {},
   "source": [
    "**（二）基本形态**\n",
    "- 有上下影线\n",
    "- 有上影无下影\n",
    "- 有下影无上影\n",
    "- 无上下影\n",
    "    - 有柱体\n",
    "    - 无主体\n",
    "</br>\n",
    "\n",
    "分类|有柱体|无柱体\n",
    "-|-|-\n",
    "有上下影线|\n",
    "无上下影线|\n",
    "有上影无下影|\n",
    "有下影无上影|"
   ]
  },
  {
   "cell_type": "markdown",
   "metadata": {},
   "source": [
    "**（三）常见组合**\n",
    "</br>\n",
    "\n",
    "        ......\n",
    "</br>\n",
    "\n",
    "-------"
   ]
  },
  {
   "cell_type": "markdown",
   "metadata": {},
   "source": [
    "# 量化交易的步骤\n",
    "- 策略构思\n",
    "- 建立模型\n",
    "- 数据回测\n",
    "- 调优再回测\n",
    "- 交易跟随"
   ]
  },
  {
   "cell_type": "markdown",
   "metadata": {},
   "source": [
    "**原理**\n",
    "- 每次操作盈利概率超过50%\n",
    "- 每次操作的预期收益数量大于亏损"
   ]
  },
  {
   "cell_type": "markdown",
   "metadata": {},
   "source": [
    "**（一）量化策略**\n",
    "<br />\n",
    "\n",
    "    输入—决策—输出\n",
    "输入|策略|输出\n",
    "-|-|-\n",
    "行情数据|选股|买入信号\n",
    "基本面数据|择时|卖出信号\n",
    "数据化新闻数据|仓位控制|交易费用\n",
    "成交回报|止盈止损|收益"
   ]
  },
  {
   "cell_type": "markdown",
   "metadata": {},
   "source": [
    "**（二）量化选股**\n",
    "- 因子选股模型  `f(factors, parameters)=equity`\n",
    ">其中f表示交易系统（线性或非线性），实际建模时可以用回归法或打分法进行简化处理。Factors是我们筛选出来的一些有效因子，如果这些因子有信息重叠，可以采用多元统计中的主成分分析或因子分析进行降维处理。Parameters是建模时遇到的各种参数，它们包括因子的权重、观察时间长度和持有时间长度等。Equity是资金曲线，它反映我们账户随时间的变化情况。通过对资金曲线equity的一些再处理，就可以得到一些评价指标（如年化收益率、年化夏普比率和最大回撤等），通过这些指标可以来评价该投资策略的效果。"
   ]
  },
  {
   "cell_type": "markdown",
   "metadata": {},
   "source": [
    "**（三）量化择时**\n",
    "- PE择时\n",
    ">`PE指标`即`市盈率`，指在一个考察期（通常为12个月的时间）内，**股票的价格**和**每股收益**的比例。\n",
    "\n",
    "    - PE高卖出，低买入\n",
    "    - 何为高，何为低？\n",
    "    - 历史数据的回算\n",
    "    - 动态中值的PE\n",
    "    \n"
   ]
  },
  {
   "cell_type": "markdown",
   "metadata": {},
   "source": [
    "**（四）量化评估**\n",
    "- **年化收益率**\n",
    "- **最大回撤**\n",
    "- **贝塔(Beta)**\n",
    "    - _与市场的同步性_\n",
    "- **阿尔法(Alpha)**\n",
    "    - _描述高于Beta估计的收益程度_\n",
    "- **夏普比率**\n",
    "    - 单位风险所获得的超额回报率\n",
    "    - _越高越好_"
   ]
  },
  {
   "cell_type": "markdown",
   "metadata": {},
   "source": [
    "-----"
   ]
  },
  {
   "cell_type": "markdown",
   "metadata": {},
   "source": [
    "# 投资组合理论\n",
    "\n",
    "- 参考资料 [马柯维茨投资组合理论](https://wiki.mbalib.com/wiki/%E9%A9%AC%E6%9F%AF%E7%BB%B4%E8%8C%A8%E6%8A%95%E8%B5%84%E7%BB%84%E5%90%88%E7%90%86%E8%AE%BA#.E6.8A.95.E8.B5.84.E7.BB.84.E5.90.88.E7.90.86.E8.AE.BA.E7.AE.80.E4.BB.8B)"
   ]
  },
  {
   "cell_type": "markdown",
   "metadata": {},
   "source": [
    "## 投资组合理论概览\n",
    "- 狭义：马柯维茨投资组合理论\n",
    "- 广义：\n",
    "    - 经典投资组合理论\n",
    "    - 资本市场理论\n",
    "        - 资本资产定价模型\n",
    "        - 证券市场有效理论\n",
    "</br>\n",
    "\n",
    "\n",
    ">同时,由于传统的`EMH`(`有效市场假说`)不能解释市场异常现象，在投资组合理论又受到`行为金融理论`的挑战。"
   ]
  },
  {
   "cell_type": "markdown",
   "metadata": {},
   "source": [
    "- 定义：投资组合是规定了投资比例的一揽子有价证券，当然，单只证券也可以当作特殊的投资组合"
   ]
  },
  {
   "cell_type": "markdown",
   "metadata": {},
   "source": [
    "- 重要内容：`均值－方差分析方法`和`投资组合有效边界模型`\n"
   ]
  },
  {
   "cell_type": "markdown",
   "metadata": {},
   "source": [
    "**投资组合边界**\n",
    "</br>\n",
    "\n",
    "人们进行投资，本质上是在不确定性的**收益**和**风险**中进行选择。投资组合理论用**均值—方差**来刻画这两个关键因素。\n",
    "\n",
    "<img src=\"image\\投资组合有效边界.png\" width=320 height=400 alt=\"投资组合边界\" align=left>"
   ]
  },
  {
   "cell_type": "markdown",
   "metadata": {},
   "source": [
    "**无差异曲线**\n",
    "- 在它上面的每一点，**商品的组合**是不同的，但是人们从中得到的效用程度却是相同的。\n",
    "- 下凹性：**边际替代率**递减\n",
    "</br>\n",
    "\n",
    "**最优投资组合**\n",
    "- 对于`特定需求`来说，最优投资组合唯一\n",
    "- `有效边界的上凸性`和`无差异曲线的下凹性`决定了其唯一性\n",
    "</br>\n",
    "\n",
    "<img src=\"image\\最优投资组合的选择.jpg\" width=300 height=300 alt=\"最优投资组合的选择\" align=left>"
   ]
  },
  {
   "cell_type": "markdown",
   "metadata": {},
   "source": [
    "**理论扩展**\n",
    "- 各种模型\n",
    "    - `均值--方差模型` `安全首要模型` `单一值数模型` `均值-半方差模型`"
   ]
  },
  {
   "cell_type": "markdown",
   "metadata": {},
   "source": [
    "### 马克维茨投资组合理论的主要内容\n"
   ]
  },
  {
   "cell_type": "markdown",
   "metadata": {},
   "source": [
    "（1）基本假设：\n",
    "\n",
    "    - 投资者规避风险，追求利益最大\n",
    "    - 根据收益率的期望值与方差来选择投资组合\n",
    "    - 处于同一单期投资期\n",
    "（2）内容：\n",
    "\n",
    "$$min \\delta^2(r_p)=\\sum\\sum w_iw_jcov(r_i,r_j)$$\n",
    "\n",
    "$$E(r_p)=\\sum w_ir_i$$\n",
    "</br>\n",
    "\n",
    "- $r_p$--组合收益 \n",
    "- $r_i,r_j$--第i，j种资产的收益\n",
    "- $w_i,w_j$--第i，j种资产的权重\n",
    "</br>\n",
    "\n",
    "     马克维茨模型是以`资产权重`为变量的`二次规划问题`，采用微分中的`拉格朗日方法`求解，在_限制条件_(公式二)下，求得组合风险 $\\delta^2(r_p)$ 最小时的最优的投资比例$w_i$。\n",
    "\n",
    "    预先确定期望收益$E(r_p)$ — 求得使方差最小的资产组合解 — **有效组合**\n",
    "\n",
    "    有效组合的收益率期望和相应的最小方差之间所形成的曲线，就是`有效组合投资的前沿`\n",
    "</br>\n",
    "\n",
    "(3)马克维茨投资组合理论的基本思路是：\n",
    "    - 投资者确定投资组合中合适的资产；\n",
    "    - 分析这些资产在持有期间的预期收益和风险；\n",
    "    - 建立可供选择的证券有效集；\n",
    "    - 结合具体的投资目标，最终确定最优证券组合。 "
   ]
  },
  {
   "cell_type": "markdown",
   "metadata": {},
   "source": [
    "## 资本资产定价模型\n",
    "\n",
    "    ......"
   ]
  },
  {
   "cell_type": "markdown",
   "metadata": {},
   "source": [
    "-----"
   ]
  },
  {
   "cell_type": "markdown",
   "metadata": {},
   "source": [
    "# 知识图谱 Knowledge Graph\n",
    "\n",
    ">2012 年 5 月 17 日，Google 正式提出了知识图谱（Knowledge Graph）的概念，其初衷是为了优化搜索引擎返回的结果，增强用户搜索质量及体验。\n",
    "\n",
    "- **things not strings**"
   ]
  },
  {
   "cell_type": "markdown",
   "metadata": {},
   "source": [
    "## 定义\n",
    "\n",
    "  **揭示实体之间关系的语义网络**\n",
    "  \n",
    "  >A knowledge graph consists of a set of interconnected typed entities and their attributes.\n",
    "\n",
    "  \n",
    "在信息的基础上，建立实体之间的联系，就能形成 “知识”\n",
    "    \n",
    "知识图谱是由一条条知识组成，每条知识表示为一个`SPO三元组`\n",
    "\n",
    "$$Subject-Predicate-Object$$\n"
   ]
  },
  {
   "cell_type": "markdown",
   "metadata": {},
   "source": [
    "## 形式化表示 RDF\n",
    "    - Resource Description Framework\n",
    "\n",
    "**RDF图中的三种类型：**\n",
    "\n",
    "- `IRIs` International Resource Identifier 【资源】\n",
    "- `blank nodes`\n",
    "- `literals` 【字面量】【出度为零】\n",
    "\n"
   ]
  },
  {
   "cell_type": "markdown",
   "metadata": {},
   "source": [
    "## 语义网络 关联数据 与 知识图谱\n"
   ]
  },
  {
   "cell_type": "markdown",
   "metadata": {},
   "source": [
    "### 语义网络 Semantic Network\n",
    "\n",
    "语义网络的**优点**：\n",
    "- 容易理解和展示\n",
    "- 相关概念容易聚类\n",
    "\n",
    "\n",
    "语义网络的**缺点**：\n",
    "\n",
    "1. 节点和边的值没有标准，完全是由用户自己定义。\n",
    "\n",
    "2. 多源数据融合比较困难，因为没有标准。\n",
    "\n",
    "3. 无法区分`概念节点`和`对象节点`。\n",
    "\n",
    "4. 无法对节点和边的标签(label `schema层`)进行定义。\n",
    "\n",
    "**RDF解决了缺点1与缺点2**\n",
    "\n",
    "**RDFS解决了缺点3和缺点4**\n",
    "\n",
    "<img src=\"image\\SemanticNetwork.jpg\" width=260 height=200 alt=\"语义网络\" align=left>\n",
    "\n"
   ]
  },
  {
   "cell_type": "markdown",
   "metadata": {},
   "source": [
    "### 语义网 Semantic Web\n",
    "### 链接数据 Linked Data\n",
    "\n",
    ">语义网和链接数据是万维网之父Tim Berners Lee分别在1998年和2006提出的。相对于语义网络，语义网和链接数据倾向于描述万维网中资源、数据之间的关系。\n",
    "\n",
    ">语义网正是为了使得网络上的数据变得机器可读而提出的一个通用框架。\n",
    "\n",
    "\n"
   ]
  },
  {
   "cell_type": "markdown",
   "metadata": {},
   "source": [
    "### 知识图谱 Knowledge Graph\n",
    "\n",
    ">知识图谱是由本体（Ontology）作为Schema层，和RDF数据模型兼容的结构化数据集。\n",
    "\n",
    "<img src=\"image\\kg.jpg\" width=600 height=400 alt=\"kg示例\" align=left>"
   ]
  },
  {
   "cell_type": "markdown",
   "metadata": {},
   "source": [
    "-----"
   ]
  },
  {
   "cell_type": "markdown",
   "metadata": {},
   "source": [
    "附：语义网技术栈\n",
    "\n",
    "<img src=\"image\\语义网技术栈.jpg\" width=280 height=320 alt=\"语义网技术栈\" align=left>"
   ]
  },
  {
   "cell_type": "markdown",
   "metadata": {},
   "source": [
    "---"
   ]
  },
  {
   "cell_type": "markdown",
   "metadata": {},
   "source": [
    "## 学习体会：\n",
    "\n",
    "- 量化交易部分只是粗略了解了大概的流程；\n",
    "- 投资组合原理的学习从经典的马科维茨投资理论开始了解，明白了一些原理和概念；\n",
    "- 知识图谱部分从抽象的概念开始了解，一些相关的具体技术还需要进一步学习，需要实践。"
   ]
  }
 ],
 "metadata": {
  "kernelspec": {
   "display_name": "Python 3",
   "language": "python",
   "name": "python3"
  },
  "language_info": {
   "codemirror_mode": {
    "name": "ipython",
    "version": 3
   },
   "file_extension": ".py",
   "mimetype": "text/x-python",
   "name": "python",
   "nbconvert_exporter": "python",
   "pygments_lexer": "ipython3",
   "version": "3.7.0"
  }
 },
 "nbformat": 4,
 "nbformat_minor": 2
}
